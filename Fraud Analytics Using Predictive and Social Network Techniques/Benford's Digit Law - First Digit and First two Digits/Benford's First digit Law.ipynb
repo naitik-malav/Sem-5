{
 "cells": [
  {
   "cell_type": "markdown",
   "id": "f30b1579",
   "metadata": {},
   "source": [
    "# Assignment 1\n",
    "## Benford's First Digit Law Implementation\n",
    "### Naitik Malav-CS19BTECH11026, Jai Goyal-CS19BTECH11027"
   ]
  },
  {
   "cell_type": "code",
   "execution_count": 54,
   "id": "ee341c07",
   "metadata": {},
   "outputs": [],
   "source": [
    "import pandas as pd\n",
    "import numpy as np\n",
    "import matplotlib.pyplot as plt\n",
    "import math\n",
    "import csv\n",
    "import scipy.stats as stats\n",
    "from numpy import mean, absolute"
   ]
  },
  {
   "cell_type": "code",
   "execution_count": 18,
   "id": "0206e593",
   "metadata": {},
   "outputs": [],
   "source": [
    "df = pd.read_csv('benford.csv', encoding='ISO-8859-1', engine='python')"
   ]
  },
  {
   "cell_type": "code",
   "execution_count": 19,
   "id": "0e2706bc",
   "metadata": {},
   "outputs": [
    {
     "data": {
      "text/html": [
       "<div>\n",
       "<style scoped>\n",
       "    .dataframe tbody tr th:only-of-type {\n",
       "        vertical-align: middle;\n",
       "    }\n",
       "\n",
       "    .dataframe tbody tr th {\n",
       "        vertical-align: top;\n",
       "    }\n",
       "\n",
       "    .dataframe thead th {\n",
       "        text-align: right;\n",
       "    }\n",
       "</style>\n",
       "<table border=\"1\" class=\"dataframe\">\n",
       "  <thead>\n",
       "    <tr style=\"text-align: right;\">\n",
       "      <th></th>\n",
       "      <th>State</th>\n",
       "      <th>City</th>\n",
       "      <th>Population</th>\n",
       "    </tr>\n",
       "  </thead>\n",
       "  <tbody>\n",
       "    <tr>\n",
       "      <th>0</th>\n",
       "      <td>Alabama</td>\n",
       "      <td>Autauga County</td>\n",
       "      <td>54571</td>\n",
       "    </tr>\n",
       "    <tr>\n",
       "      <th>1</th>\n",
       "      <td>Alabama</td>\n",
       "      <td>Baldwin County</td>\n",
       "      <td>182265</td>\n",
       "    </tr>\n",
       "    <tr>\n",
       "      <th>2</th>\n",
       "      <td>Alabama</td>\n",
       "      <td>Barbour County</td>\n",
       "      <td>27457</td>\n",
       "    </tr>\n",
       "    <tr>\n",
       "      <th>3</th>\n",
       "      <td>Alabama</td>\n",
       "      <td>NaN</td>\n",
       "      <td>22915</td>\n",
       "    </tr>\n",
       "    <tr>\n",
       "      <th>4</th>\n",
       "      <td>Alabama</td>\n",
       "      <td>Blount County</td>\n",
       "      <td>57322</td>\n",
       "    </tr>\n",
       "  </tbody>\n",
       "</table>\n",
       "</div>"
      ],
      "text/plain": [
       "     State            City  Population\n",
       "0  Alabama  Autauga County       54571\n",
       "1  Alabama  Baldwin County      182265\n",
       "2  Alabama  Barbour County       27457\n",
       "3  Alabama             NaN       22915\n",
       "4  Alabama   Blount County       57322"
      ]
     },
     "execution_count": 19,
     "metadata": {},
     "output_type": "execute_result"
    }
   ],
   "source": [
    "df.head()"
   ]
  },
  {
   "cell_type": "code",
   "execution_count": 92,
   "id": "9a4e8b2b",
   "metadata": {},
   "outputs": [],
   "source": [
    "def get_first_digit(number):\n",
    "    while number>=np.power(10, 1):\n",
    "        number = int(number/10);\n",
    "    return int(number)"
   ]
  },
  {
   "cell_type": "code",
   "execution_count": 100,
   "id": "0a2328cc",
   "metadata": {},
   "outputs": [],
   "source": [
    "def count_freq(df):\n",
    "    freq = {}\n",
    "    \n",
    "    for x in range(9):\n",
    "        freq[str(x+1)] = 0\n",
    "    \n",
    "    for x in df['Population']:\n",
    "        if x>0:\n",
    "            first_digit = get_first_digit(x)\n",
    "            freq[str(first_digit)] += 1\n",
    "    return freq"
   ]
  },
  {
   "cell_type": "code",
   "execution_count": 101,
   "id": "f815cb71",
   "metadata": {},
   "outputs": [],
   "source": [
    "def benford_frequency(df):\n",
    "    y = {}\n",
    "    for x in range(9):\n",
    "        y[str(x+1)] = math.log10(1+1/(x+1))\n",
    "     \n",
    "    return np.array(list(y.values()))*len(df['Population'])"
   ]
  },
  {
   "cell_type": "code",
   "execution_count": 110,
   "id": "2053ed75",
   "metadata": {},
   "outputs": [],
   "source": [
    "def first_digit_benfords_law(df):\n",
    "    df_freq = count_freq(df)\n",
    "    benford_freq = benford_frequency(df)\n",
    "    \n",
    "    digits = list(df_freq.keys())\n",
    "    frequency = list(df_freq.values())\n",
    "    \n",
    "#     print(digits)\n",
    "#     print(frequency)\n",
    "#     print(benford_freq)\n",
    "    \n",
    "    X = np.power(frequency-benford_freq, 2)/benford_freq\n",
    "    chi_squared_value = X.sum()\n",
    "    print('chi square test p value=', chi_squared_value)\n",
    "\n",
    "    #Get the p-value of the Chi-squared test statistic with N-p degrees of freedom\n",
    "    chi_squared_p_value = stats.chi2.sf(x=chi_squared_value, df=8)\n",
    "    print(\"MAD=\",mean(absolute(frequency - mean(frequency))))\n",
    "    \n",
    "    plt.figure(figsize=(8, 6))\n",
    "    plt.plot(digits, frequency, label=\"Benford's First digit Analysis on Population\", color='black', linestyle='solid', marker='o', linewidth=2)\n",
    "    plt.plot(digits, benford_freq, label=\"Actual Benford's First Digit Analysis\", color='red', linestyle='dotted', marker='o', linewidth=2)\n",
    "    plt.xlabel('Digits')\n",
    "    plt.ylabel('Frequency')\n",
    "    plt.legend()\n",
    "    plt.show()\n",
    "    "
   ]
  },
  {
   "cell_type": "code",
   "execution_count": 111,
   "id": "be629159",
   "metadata": {
    "scrolled": true
   },
   "outputs": [
    {
     "name": "stdout",
     "output_type": "stream",
     "text": [
      "chi square test p value= 10.6314009212393\n",
      "MAD= 194.14814814814815\n"
     ]
    },
    {
     "data": {
      "image/png": "[encoded data removed]",
      "text/plain": [
       "<Figure size 576x432 with 1 Axes>"
      ]
     },
     "metadata": {
      "needs_background": "light"
     },
     "output_type": "display_data"
    }
   ],
   "source": [
    "first_digit_benfords_law(df)"
   ]
  },
  {
   "cell_type": "code",
   "execution_count": null,
   "id": "11e4ce41",
   "metadata": {},
   "outputs": [],
   "source": []
  },
  {
   "cell_type": "code",
   "execution_count": null,
   "id": "5126635f",
   "metadata": {},
   "outputs": [],
   "source": []
  },
  {
   "cell_type": "code",
   "execution_count": null,
   "id": "a5253894",
   "metadata": {},
   "outputs": [],
   "source": []
  },
  {
   "cell_type": "code",
   "execution_count": null,
   "id": "97bd68bf",
   "metadata": {},
   "outputs": [],
   "source": []
  }
 ],
 "metadata": {
  "kernelspec": {
   "display_name": "Python 3 (ipykernel)",
   "language": "python",
   "name": "python3"
  },
  "language_info": {
   "codemirror_mode": {
    "name": "ipython",
    "version": 3
   },
   "file_extension": ".py",
   "mimetype": "text/x-python",
   "name": "python",
   "nbconvert_exporter": "python",
   "pygments_lexer": "ipython3",
   "version": "3.9.7"
  }
 },
 "nbformat": 4,
 "nbformat_minor": 5
}
