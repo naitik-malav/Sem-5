{
 "cells": [
  {
   "cell_type": "markdown",
   "id": "770e7ce7",
   "metadata": {},
   "source": [
    "# FoML : Assignment - 2\n",
    "### Name: Naitik Malav  |  Roll No: CS19BTECH11026"
   ]
  },
  {
   "cell_type": "code",
   "execution_count": 1,
   "id": "5626b966",
   "metadata": {},
   "outputs": [],
   "source": [
    "import numpy as np\n",
    "import pandas as pd\n",
    "import requests\n",
    "from sklearn import svm\n",
    "from sklearn import metrics"
   ]
  },
  {
   "cell_type": "code",
   "execution_count": 2,
   "id": "d1ea8d49",
   "metadata": {},
   "outputs": [],
   "source": [
    "X_train = pd.read_csv(\"gisette_train.data\", header=None, sep=' ')\n",
    "Y_train = pd.read_csv(\"gisette_train.labels\", header=None).iloc[:, 0].values\n",
    "\n",
    "\n",
    "X_valid = pd.read_csv(\"gisette_valid.data\", header=None, sep=' ')\n",
    "Y_valid = pd.read_csv(\"gisette_valid.labels\", header=None).iloc[:, 0].values\n",
    "\n",
    "x = X_train.drop([5000], axis='columns')\n",
    "y = X_valid.drop([5000], axis='columns')"
   ]
  },
  {
   "cell_type": "markdown",
   "id": "bbc133a8",
   "metadata": {},
   "source": [
    "# 5(a)"
   ]
  },
  {
   "cell_type": "code",
   "execution_count": 3,
   "id": "4a574cfe",
   "metadata": {},
   "outputs": [
    {
     "name": "stdout",
     "output_type": "stream",
     "text": [
      "Training Error: 0.0\n",
      "Test_Error: 0.02400000000000002\n",
      "No. of Support Vectors: [542 542]\n"
     ]
    }
   ],
   "source": [
    "clf = svm.SVC(kernel = 'linear', decision_function_shape='ovo')\n",
    "clf.fit(x, Y_train)\n",
    "\n",
    "ypred = clf.predict(x)\n",
    "train_error = 1 - metrics.accuracy_score(Y_train, ypred)\n",
    "ypred = clf.predict(y)\n",
    "test_error = 1 - metrics.accuracy_score(Y_valid, ypred)\n",
    "\n",
    "print(\"Training Error:\", train_error)\n",
    "print(\"Test_Error:\", test_error)\n",
    "print(\"No. of Support Vectors:\", clf.n_support_)"
   ]
  },
  {
   "cell_type": "markdown",
   "id": "d86c3746",
   "metadata": {},
   "source": [
    "# 5(b)"
   ]
  },
  {
   "cell_type": "markdown",
   "id": "3319dc99",
   "metadata": {},
   "source": [
    "### RBF Kernel (γ = 0.001)"
   ]
  },
  {
   "cell_type": "code",
   "execution_count": 4,
   "id": "d5fc9606",
   "metadata": {},
   "outputs": [
    {
     "name": "stdout",
     "output_type": "stream",
     "text": [
      "Training Error: 0.0\n",
      "Test_Error: 0.5\n",
      "No. of Support Vectors: [3000 3000]\n"
     ]
    }
   ],
   "source": [
    "clf = svm.SVC(kernel='rbf', gamma=0.001)\n",
    "clf.fit(x, Y_train)\n",
    "\n",
    "ypred = clf.predict(x)\n",
    "train_error = 1 - metrics.accuracy_score(Y_train, ypred)\n",
    "ypred = clf.predict(y)\n",
    "test_error = 1 - metrics.accuracy_score(Y_valid, ypred)\n",
    "\n",
    "print(\"Training Error:\", train_error)\n",
    "print(\"Test_Error:\", test_error)\n",
    "print(\"No. of Support Vectors:\", clf.n_support_)"
   ]
  },
  {
   "cell_type": "markdown",
   "id": "e858cae1",
   "metadata": {},
   "source": [
    "### Polynomial Kernel (degree=2, coef0=1)"
   ]
  },
  {
   "cell_type": "code",
   "execution_count": 5,
   "id": "871f16c8",
   "metadata": {},
   "outputs": [
    {
     "name": "stdout",
     "output_type": "stream",
     "text": [
      "Training Error: 0.0004999999999999449\n",
      "Test_Error: 0.020000000000000018\n",
      "No. of Support Vectors: [641 691]\n"
     ]
    }
   ],
   "source": [
    "clf = svm.SVC(kernel = 'poly', degree=2, coef0=1)\n",
    "clf.fit(x, Y_train)\n",
    "\n",
    "ypred = clf.predict(x)\n",
    "train_error = 1 - metrics.accuracy_score(Y_train, ypred)\n",
    "ypred = clf.predict(y)\n",
    "test_error = 1 - metrics.accuracy_score(Y_valid, ypred)\n",
    "\n",
    "print(\"Training Error:\", train_error)\n",
    "print(\"Test_Error:\", test_error)\n",
    "print(\"No. of Support Vectors:\", clf.n_support_)"
   ]
  },
  {
   "cell_type": "code",
   "execution_count": 6,
   "id": "4b808a91",
   "metadata": {},
   "outputs": [
    {
     "name": "stdout",
     "output_type": "stream",
     "text": [
      "Linear and RBF Kernel yields the lowest training error which is 0.0\n"
     ]
    }
   ],
   "source": [
    "print(\"Linear and RBF Kernel yields the lowest training error which is 0.0\")"
   ]
  }
 ],
 "metadata": {
  "kernelspec": {
   "display_name": "Python 3",
   "language": "python",
   "name": "python3"
  },
  "language_info": {
   "codemirror_mode": {
    "name": "ipython",
    "version": 3
   },
   "file_extension": ".py",
   "mimetype": "text/x-python",
   "name": "python",
   "nbconvert_exporter": "python",
   "pygments_lexer": "ipython3",
   "version": "3.8.8"
  }
 },
 "nbformat": 4,
 "nbformat_minor": 5
}
