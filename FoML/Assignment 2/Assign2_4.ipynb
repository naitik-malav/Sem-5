{
 "cells": [
  {
   "cell_type": "markdown",
   "id": "3c19411f",
   "metadata": {},
   "source": [
    "# FoML : Assignment - 2\n",
    "### Name: Naitik Malav  |  Roll No: CS19BTECH11026"
   ]
  },
  {
   "cell_type": "code",
   "execution_count": 1,
   "id": "f0607354",
   "metadata": {},
   "outputs": [],
   "source": [
    "import numpy as np\n",
    "import pandas as pd\n",
    "import requests\n",
    "from sklearn import svm\n",
    "from sklearn import metrics"
   ]
  },
  {
   "cell_type": "code",
   "execution_count": 2,
   "id": "029ca2f2",
   "metadata": {},
   "outputs": [],
   "source": [
    "trainURL = \"http://www.amlbook.com/data/zip/features.train\"\n",
    "testURL = \"http://www.amlbook.com/data/zip/features.test\""
   ]
  },
  {
   "cell_type": "code",
   "execution_count": 3,
   "id": "4cb3179c",
   "metadata": {},
   "outputs": [],
   "source": [
    "#training dataframe and test dataframe\n",
    "dfTrain = pd.read_fwf(trainURL, header = None)\n",
    "dfTest = pd.read_fwf(testURL, header = None)"
   ]
  },
  {
   "cell_type": "code",
   "execution_count": 4,
   "id": "02d2d8ab",
   "metadata": {},
   "outputs": [],
   "source": [
    "#For digit label 1.0 class is +1 and for digit label 5.0 class is -1. \n",
    "#For the rest of the digit labels I have set the class as None as it's of no use. \n",
    "#We are considering only 1.0 and 5.0\n",
    "\n",
    "Class = []\n",
    "for digit in dfTrain[0]:\n",
    "    if digit==1.0:\n",
    "        Class.append(1)\n",
    "    elif digit==5.0:\n",
    "        Class.append(-1)\n",
    "    else:\n",
    "        Class.append(None)     \n",
    "dfTrain['class'] = Class\n",
    "\n",
    "Class = []\n",
    "for digit in dfTest[0]:\n",
    "    if digit==1.0:\n",
    "        Class.append(1)\n",
    "    elif digit==5.0:\n",
    "        Class.append(-1)\n",
    "    else:\n",
    "        Class.append(None)     \n",
    "dfTest['class'] = Class\n"
   ]
  },
  {
   "cell_type": "code",
   "execution_count": 5,
   "id": "d3a776c7",
   "metadata": {},
   "outputs": [
    {
     "name": "stdout",
     "output_type": "stream",
     "text": [
      "        0         1         2  class\n",
      "0     6.0  0.341092 -4.528937    NaN\n",
      "1     5.0  0.444131 -5.496812   -1.0\n",
      "2     4.0  0.231002 -2.886750    NaN\n",
      "3     7.0  0.200275 -3.534375    NaN\n",
      "4     3.0  0.291936 -4.352062    NaN\n",
      "...   ...       ...       ...    ...\n",
      "7286  3.0  0.296178 -2.558250    NaN\n",
      "7287  3.0  0.252795 -3.110500    NaN\n",
      "7288  3.0  0.393705 -2.921187    NaN\n",
      "7289  0.0  0.597590 -2.258062    NaN\n",
      "7290  1.0  0.276221 -0.916250    1.0\n",
      "\n",
      "[7291 rows x 4 columns]\n",
      "        0         1         2  class\n",
      "0     9.0  0.272178 -4.847937    NaN\n",
      "1     6.0  0.265133 -5.102000    NaN\n",
      "2     3.0  0.335926 -2.921562    NaN\n",
      "3     6.0  0.264850 -4.156625    NaN\n",
      "4     6.0  0.345338 -6.718438    NaN\n",
      "...   ...       ...       ...    ...\n",
      "2002  3.0  0.237842 -4.052688    NaN\n",
      "2003  9.0  0.265125 -3.630500    NaN\n",
      "2004  4.0  0.308857 -5.365188    NaN\n",
      "2005  0.0  0.509971 -2.010000    NaN\n",
      "2006  1.0  0.188977 -0.781312    1.0\n",
      "\n",
      "[2007 rows x 4 columns]\n"
     ]
    }
   ],
   "source": [
    "print(dfTrain)\n",
    "print(dfTest)"
   ]
  },
  {
   "cell_type": "markdown",
   "id": "011c713f",
   "metadata": {},
   "source": [
    "# 4(a)"
   ]
  },
  {
   "cell_type": "markdown",
   "id": "4d558d0d",
   "metadata": {},
   "source": [
    "### Training using complete training dataset"
   ]
  },
  {
   "cell_type": "code",
   "execution_count": 6,
   "id": "c1b38c73",
   "metadata": {},
   "outputs": [
    {
     "name": "stdout",
     "output_type": "stream",
     "text": [
      "Accuracy: 97.87735849056604 %\n",
      "No. of Support Vectors: [14 14]\n"
     ]
    }
   ],
   "source": [
    "#from dfTrain and dfTest selecting only those points which are having digit label as 1.0 or 5.0\n",
    "X_train = dfTrain[dfTrain[0].isin([1,5])]\n",
    "X_test = dfTest[dfTest[0].isin([1,5])]\n",
    "\n",
    "#taking features-col2 and col3 into x and digit label col1 into y\n",
    "x = X_train.drop([0, 'class'], axis='columns')\n",
    "y = X_train.iloc[:,0]\n",
    "\n",
    "clf = svm.SVC(kernel='linear')\n",
    "clf.fit(x, y)\n",
    "\n",
    "#taking featuress-col2 and col3 into x and digit label col1 into y\n",
    "xtest = X_test.drop([0, 'class'], axis='columns')\n",
    "ytest = X_test.iloc[:,0]\n",
    "\n",
    "#predicting and calculating accuracy and test error\n",
    "ypred = clf.predict(xtest)\n",
    "accuracy = metrics.accuracy_score(ytest, ypred)\n",
    "print(\"Accuracy:\",accuracy*100,\"%\")\n",
    "\n",
    "#prinitng support vectors and calcualting the number of support vectors\n",
    "print(\"No. of Support Vectors:\", clf.n_support_)"
   ]
  },
  {
   "cell_type": "markdown",
   "id": "2ef81848",
   "metadata": {},
   "source": [
    "# 4(b)"
   ]
  },
  {
   "cell_type": "markdown",
   "id": "cac53913",
   "metadata": {},
   "source": [
    "### Training using only first [50, 100, 200, 800] points of training dataset"
   ]
  },
  {
   "cell_type": "code",
   "execution_count": 7,
   "id": "f911f9d6",
   "metadata": {},
   "outputs": [
    {
     "name": "stdout",
     "output_type": "stream",
     "text": [
      "Accuracy for first 50 points is: 98.11320754716981 %\n",
      "No. of Support Vectors: [1 1]\n",
      "Accuracy for first 100 points is: 98.11320754716981 %\n",
      "No. of Support Vectors: [2 2]\n",
      "Accuracy for first 200 points is: 98.11320754716981 %\n",
      "No. of Support Vectors: [4 4]\n",
      "Accuracy for first 800 points is: 98.11320754716981 %\n",
      "No. of Support Vectors: [7 7]\n"
     ]
    }
   ],
   "source": [
    "#taking first 50points of dfTrain\n",
    "X_train = dfTrain[dfTrain[0].isin([1,5])]\n",
    "X_test = dfTest[dfTest[0].isin([1,5])]\n",
    "xtest = X_test.drop([0, 'class'], axis='columns')\n",
    "ytest = X_test.iloc[:,0]\n",
    "\n",
    "for i in [50, 100, 200, 800]:\n",
    "    \n",
    "    Xtrain = X_train.head(i)\n",
    "    x = Xtrain.drop([0, 'class'], axis='columns')\n",
    "    y = Xtrain.iloc[:,0]\n",
    "\n",
    "    clf = svm.SVC(kernel='linear', decision_function_shape='ovo')\n",
    "    clf.fit(x, y)\n",
    "\n",
    "    ypred = clf.predict(xtest)\n",
    "    accuracy = metrics.accuracy_score(ytest, ypred)\n",
    "    print(\"Accuracy for first\", i, \"points is:\", accuracy*100,\"%\")\n",
    "    print(\"No. of Support Vectors:\",clf.n_support_)"
   ]
  },
  {
   "cell_type": "markdown",
   "id": "fededc6d",
   "metadata": {},
   "source": [
    "# 4(c)\n",
    "### (i) When C = 0.0001, is training error is higher at Q = 5 ?"
   ]
  },
  {
   "cell_type": "code",
   "execution_count": 8,
   "id": "bf5aa9d1",
   "metadata": {},
   "outputs": [
    {
     "name": "stdout",
     "output_type": "stream",
     "text": [
      "Train Error at Q= 2 is: 0.008968609865470878\n",
      "Train Error at Q= 5 is: 0.004484304932735439\n",
      "\n",
      "False\n"
     ]
    }
   ],
   "source": [
    "X_train = dfTrain[dfTrain[0].isin([1,5])]\n",
    "\n",
    "x = X_train.drop([0, 'class'], axis='columns')\n",
    "y = X_train.iloc[:,0]\n",
    "\n",
    "for Q in [2, 5]:\n",
    "    clf = svm.SVC(kernel='poly', C=0.0001, gamma=1, coef0=1, degree=Q)\n",
    "    clf.fit(x, y)\n",
    "\n",
    "    ypred = clf.predict(x)\n",
    "    train_error = 1 - metrics.accuracy_score(y, ypred)\n",
    "    \n",
    "    print(\"Train Error at Q=\", Q, \"is:\", train_error)\n",
    "\n",
    "print(\"\\nFalse\")\n"
   ]
  },
  {
   "cell_type": "markdown",
   "id": "a80709e1",
   "metadata": {},
   "source": [
    "### (ii) When C = 0.001, the number of support vectors at Q=5 is lower ?"
   ]
  },
  {
   "cell_type": "code",
   "execution_count": 9,
   "id": "8caf49f3",
   "metadata": {},
   "outputs": [
    {
     "name": "stdout",
     "output_type": "stream",
     "text": [
      "Support Vectors at Q= 2 is: [38 38]\n",
      "Support Vectors at Q= 5 is: [12 13]\n",
      "\n",
      "True\n"
     ]
    }
   ],
   "source": [
    "X_train = dfTrain[dfTrain[0].isin([1,5])]\n",
    "\n",
    "x = X_train.drop([0, 'class'], axis='columns')\n",
    "y = X_train.iloc[:,0]\n",
    "\n",
    "for Q in [2, 5]:\n",
    "    clf = svm.SVC(kernel='poly', C=0.001, gamma=1, coef0=1, degree=Q)\n",
    "    clf.fit(x, y)\n",
    "\n",
    "    print(\"Support Vectors at Q=\",Q, \"is:\", clf.n_support_)\n",
    "    \n",
    "print(\"\\nTrue\")"
   ]
  },
  {
   "cell_type": "markdown",
   "id": "64b9c54d",
   "metadata": {},
   "source": [
    "### (iii) When C = 0.01, is training error is higher at Q = 5 ?"
   ]
  },
  {
   "cell_type": "code",
   "execution_count": 10,
   "id": "abed21a4",
   "metadata": {},
   "outputs": [
    {
     "name": "stdout",
     "output_type": "stream",
     "text": [
      "Train Error at Q= 2 is: 0.004484304932735439\n",
      "Train Error at Q= 5 is: 0.0038436899423446302\n",
      "\n",
      "False\n"
     ]
    }
   ],
   "source": [
    "X_train = dfTrain[dfTrain[0].isin([1,5])]\n",
    "\n",
    "x = X_train.drop([0, 'class'], axis='columns')\n",
    "y = X_train.iloc[:,0]\n",
    "\n",
    "for Q in [2, 5]:\n",
    "    clf = svm.SVC(kernel='poly', C=0.01, gamma=1, coef0=1, degree=Q)\n",
    "    clf.fit(x, y)\n",
    "\n",
    "    ypred = clf.predict(x)\n",
    "    train_error = 1 - metrics.accuracy_score(y, ypred)\n",
    "    \n",
    "    print(\"Train Error at Q=\", Q, \"is:\", train_error)\n",
    "\n",
    "print(\"\\nFalse\")\n"
   ]
  },
  {
   "cell_type": "markdown",
   "id": "6135a954",
   "metadata": {},
   "source": [
    "### (iv) When C = 1, test error is lower at Q = 5 ?"
   ]
  },
  {
   "cell_type": "code",
   "execution_count": 11,
   "id": "a6aa6901",
   "metadata": {},
   "outputs": [
    {
     "name": "stdout",
     "output_type": "stream",
     "text": [
      "Test Error at Q= 2  is:  0.018867924528301883\n",
      "Test Error at Q= 5  is:  0.021226415094339646\n",
      "\n",
      "False\n"
     ]
    }
   ],
   "source": [
    "X_train = dfTrain[dfTrain[0].isin([1,5])]\n",
    "X_test = dfTest[dfTest[0].isin([1,5])]\n",
    "\n",
    "x = X_train.drop([0, 'class'], axis='columns')\n",
    "y = X_train.iloc[:,0]\n",
    "xtest = X_test.drop([0, 'class'], axis='columns')\n",
    "ytest = X_test.iloc[:,0]\n",
    "\n",
    "for Q in [2, 5]:\n",
    "    clf = svm.SVC(kernel='poly', C=1, gamma=1, coef0=1, degree=Q)\n",
    "    clf.fit(x, y)\n",
    "\n",
    "    ypred = clf.predict(xtest)\n",
    "    test_error = 1 - metrics.accuracy_score(ytest, ypred)\n",
    "    \n",
    "    print(\"Test Error at Q=\", Q, \" is: \", test_error)\n",
    "\n",
    "print(\"\\nFalse\")"
   ]
  },
  {
   "cell_type": "markdown",
   "id": "886407fd",
   "metadata": {},
   "source": [
    "# 4(d)"
   ]
  },
  {
   "cell_type": "code",
   "execution_count": 12,
   "id": "dbdc9ad9",
   "metadata": {},
   "outputs": [
    {
     "name": "stdout",
     "output_type": "stream",
     "text": [
      "Train Error at C= 0.01  is:  0.0038436899423446302\n",
      "Test Error at C= 0.01  is:  0.02358490566037741\n",
      "\n",
      "Train Error at C= 1  is:  0.004484304932735439\n",
      "Test Error at C= 1  is:  0.021226415094339646\n",
      "\n",
      "Train Error at C= 100  is:  0.0032030749519538215\n",
      "Test Error at C= 100  is:  0.018867924528301883\n",
      "\n",
      "Train Error at C= 10000  is:  0.002562459961563124\n",
      "Test Error at C= 10000  is:  0.02358490566037741\n",
      "\n",
      "Train Error at C= 1000000  is:  0.0006406149903908087\n",
      "Test Error at C= 1000000  is:  0.02358490566037741\n",
      "\n",
      "\n",
      "Test Error is lowest at C=100\n",
      "Train Error is lowest at C=10^6\n"
     ]
    }
   ],
   "source": [
    "X_train = dfTrain[dfTrain[0].isin([1,5])]\n",
    "X_test = dfTest[dfTest[0].isin([1,5])]\n",
    "\n",
    "for c in [0.01, 1, 100, 10000, 1000000]:\n",
    "    #from dfTrain selecting only those points which are having digit label as 1.0 or 5.0\n",
    "    \n",
    "    #taking features-col2 and col3 into x and digit label col1 into y\n",
    "    x = X_train.drop([0, 'class'], axis='columns')\n",
    "    y = X_train.iloc[:,0]\n",
    "\n",
    "    clf = svm.SVC(kernel='rbf', C=c, gamma=1)\n",
    "    clf.fit(x, y)\n",
    "\n",
    "    #taking featuress-col2 and col3 into x and digit label col1 into y\n",
    "    xtest = X_test.drop([0, 'class'], axis='columns')\n",
    "    ytest = X_test.iloc[:,0]\n",
    "\n",
    "    #predicting and calculating test error using test set = xtest\n",
    "    ypred = clf.predict(x)\n",
    "    train_error = 1 - metrics.accuracy_score(y, ypred)\n",
    "    ypred = clf.predict(xtest)\n",
    "    test_error = 1 - metrics.accuracy_score(ytest, ypred)\n",
    "    \n",
    "\n",
    "    print(\"Train Error at C=\", c, \" is: \", train_error)\n",
    "    print(\"Test Error at C=\", c, \" is: \", test_error)\n",
    "    print()\n",
    "\n",
    "print(\"\\nTest Error is lowest at C=100\")\n",
    "print(\"Train Error is lowest at C=10^6\")"
   ]
  }
 ],
 "metadata": {
  "kernelspec": {
   "display_name": "Python 3",
   "language": "python",
   "name": "python3"
  },
  "language_info": {
   "codemirror_mode": {
    "name": "ipython",
    "version": 3
   },
   "file_extension": ".py",
   "mimetype": "text/x-python",
   "name": "python",
   "nbconvert_exporter": "python",
   "pygments_lexer": "ipython3",
   "version": "3.8.8"
  }
 },
 "nbformat": 4,
 "nbformat_minor": 5
}
