{
 "cells": [
  {
   "cell_type": "markdown",
   "id": "cdefdf10",
   "metadata": {},
   "source": [
    "# FoML Assignment-3\n",
    "## Naitik Malav | CS19BTECH11026\n",
    "## 5th"
   ]
  },
  {
   "cell_type": "markdown",
   "id": "2cda2634",
   "metadata": {},
   "source": [
    "### Preparing Training Dataset and Test Dataset"
   ]
  },
  {
   "cell_type": "code",
   "execution_count": 136,
   "id": "d1951471",
   "metadata": {},
   "outputs": [],
   "source": [
    "import pandas as pd \n",
    "import numpy as np\n",
    "import matplotlib.pyplot as plt\n",
    "import math\n",
    "from sklearn.preprocessing import OneHotEncoder,LabelEncoder\n",
    "from sklearn.ensemble import GradientBoostingClassifier\n",
    "from sklearn.metrics import accuracy_score,precision_score,recall_score\n",
    "\n",
    "read = \"loan_train.csv\"\n",
    "df_train = pd.read_csv(read)\n",
    "read = \"loan_test.csv\"\n",
    "df_test = pd.read_csv(read)\n",
    "\n",
    "df_train = df_train.iloc[:, :47]\n",
    "df_test = df_test.iloc[:, :47]"
   ]
  },
  {
   "cell_type": "markdown",
   "id": "34955aab",
   "metadata": {},
   "source": [
    "### Dropping columns which have Nan Values\n",
    "### and \n",
    "### Converting column 'verification_status' into useful information using OneHotEncoding"
   ]
  },
  {
   "cell_type": "code",
   "execution_count": 137,
   "id": "a4152fee",
   "metadata": {},
   "outputs": [],
   "source": [
    "def ColumnConversion(dataframe):\n",
    "    dataframe['int_rate'] = dataframe['int_rate'].replace(\"%\",\"\", regex=True).astype(float)\n",
    "    dataframe['term'] = dataframe.term.str.extract('(\\d+)')\n",
    "    return dataframe\n",
    "\n",
    "df_train = df_train.drop(df_train.columns[[0, 1, 9, 10, 11, 15, 17, 18, 19, 21, 22, 23, 26, 35, 45]],axis=1)\n",
    "df_train.dropna(axis=1, how='any', inplace=True)\n",
    "df_train = ColumnConversion(df_train)\n",
    "\n",
    "df_test = df_test.drop(df_test.columns[[0, 1, 9, 10, 11, 15, 17, 18, 19, 21, 22, 23, 26, 35, 45]],axis=1)\n",
    "df_test.dropna(axis=1, how='any', inplace=True)\n",
    "df_test = ColumnConversion(df_test)"
   ]
  },
  {
   "cell_type": "markdown",
   "id": "ff9b6d78",
   "metadata": {},
   "source": [
    "### Removing those row entries where loan_status == current"
   ]
  },
  {
   "cell_type": "code",
   "execution_count": 138,
   "id": "84f8331f",
   "metadata": {},
   "outputs": [],
   "source": [
    "df_train = df_train.drop(df_train[df_train['loan_status'] == 'Current'].index, axis=0)\n",
    "df_test = df_test.drop(df_test[df_test['loan_status'] == 'Current'].index, axis=0)"
   ]
  },
  {
   "cell_type": "code",
   "execution_count": 139,
   "id": "31e83ad8",
   "metadata": {},
   "outputs": [],
   "source": [
    "def Encoding(dataframe):\n",
    "    OHE_data = pd.get_dummies(dataframe, columns = ['verification_status'])\n",
    "    dataframe = OHE_data\n",
    "    return dataframe\n",
    "\n",
    "def RankingEncode(dataframe):\n",
    "    encoder = LabelEncoder()\n",
    "    for column in ['loan_status','grade','home_ownership','purpose']:\n",
    "        dataframe[column] = encoder.fit_transform(dataframe[column])\n",
    "    return dataframe\n",
    "\n",
    "df_train = Encoding(df_train)\n",
    "df_train = RankingEncode(df_train)\n",
    "df_test = Encoding(df_test)\n",
    "df_test = RankingEncode(df_test)"
   ]
  },
  {
   "cell_type": "code",
   "execution_count": 140,
   "id": "67d94f7a",
   "metadata": {},
   "outputs": [],
   "source": [
    "X_train = df_train.loc[ : , df_train.columns != 'loan_status'].values\n",
    "Y_train = df_train['loan_status'].values\n",
    "\n",
    "X_test = df_test.loc[ : , df_test.columns != 'loan_status'].values\n",
    "Y_test = df_test['loan_status'].values"
   ]
  },
  {
   "cell_type": "markdown",
   "id": "feb2d701",
   "metadata": {},
   "source": [
    "### Training the dataset with the help of Gradient Boosting Classifier\n",
    "### Computing accuracy, precision and recall score"
   ]
  },
  {
   "cell_type": "code",
   "execution_count": 141,
   "id": "0501d597",
   "metadata": {
    "scrolled": true
   },
   "outputs": [
    {
     "name": "stdout",
     "output_type": "stream",
     "text": [
      "For n_estimators= 1\n",
      "Accuracy is: 0.8491874474642757 \n",
      "Precision is: 0.8491874 \n",
      "Recall score is: 0.8491874\n",
      "\n",
      "For n_estimators= 2\n",
      "Accuracy is: 0.8491874474642757 \n",
      "Precision is: 0.8491874 \n",
      "Recall score is: 0.8491874\n",
      "\n",
      "For n_estimators= 3\n",
      "Accuracy is: 0.8491874474642757 \n",
      "Precision is: 0.8491874 \n",
      "Recall score is: 0.8491874\n",
      "\n",
      "For n_estimators= 4\n",
      "Accuracy is: 0.8491874474642757 \n",
      "Precision is: 0.8491874 \n",
      "Recall score is: 0.8491874\n",
      "\n",
      "For n_estimators= 5\n",
      "Accuracy is: 0.97219108994116 \n",
      "Precision is: 0.9721911 \n",
      "Recall score is: 0.9682907\n",
      "\n",
      "For n_estimators= 6\n",
      "Accuracy is: 0.97219108994116 \n",
      "Precision is: 0.9721911 \n",
      "Recall score is: 0.9682907\n",
      "\n",
      "For n_estimators= 7\n",
      "Accuracy is: 0.97219108994116 \n",
      "Precision is: 0.9721911 \n",
      "Recall score is: 0.9682907\n",
      "\n",
      "For n_estimators= 8\n",
      "Accuracy is: 0.97219108994116 \n",
      "Precision is: 0.9721911 \n",
      "Recall score is: 0.9682907\n",
      "\n",
      "For n_estimators= 9\n",
      "Accuracy is: 0.97219108994116 \n",
      "Precision is: 0.9721911 \n",
      "Recall score is: 0.9682907\n",
      "\n"
     ]
    }
   ],
   "source": [
    "for i in range(1,10):\n",
    "    clf = GradientBoostingClassifier(n_estimators = i)\n",
    "    clf.fit(X_train, Y_train)\n",
    "    \n",
    "    Y_pred = clf.predict(X_test)\n",
    "    \n",
    "    print(\"For n_estimators=\", i)\n",
    "    accuracy = accuracy_score(Y_pred, Y_test)\n",
    "    precision = precision_score(Y_test, Y_pred, average='micro')\n",
    "    recall = recall_score(Y_pred, Y_test, average='binary')\n",
    "    print(\"Accuracy is:\",accuracy, \"\\nPrecision is: %.7f\" % precision, \"\\nRecall score is: %.7f\\n\" % recall)    "
   ]
  },
  {
   "cell_type": "markdown",
   "id": "f6e91fb0",
   "metadata": {},
   "source": [
    "### Training the data and making predicitions with the help of Decision Tree Classifier"
   ]
  },
  {
   "cell_type": "code",
   "execution_count": 142,
   "id": "4d342c56",
   "metadata": {},
   "outputs": [
    {
     "name": "stdout",
     "output_type": "stream",
     "text": [
      "Accuracy is: 0.991874474642757 \n",
      "Precision is: 0.9918745 \n",
      "Recall score is: 0.9948075\n",
      "\n",
      "\n"
     ]
    }
   ],
   "source": [
    "from sklearn import tree\n",
    "classifier = tree.DecisionTreeClassifier()\n",
    "classifier = classifier.fit(X_train, Y_train)\n",
    "\n",
    "Y_pred = classifier.predict(X_test)\n",
    "\n",
    "accuracy = accuracy_score(Y_pred, Y_test)\n",
    "precision = precision_score(Y_test, Y_pred, average='micro')\n",
    "recall = recall_score(Y_pred, Y_test, average='binary')\n",
    "print(\"Accuracy is:\",accuracy, \"\\nPrecision is: %.7f\" % precision, \"\\nRecall score is: %.7f\\n\" % recall) \n",
    "\n",
    "print()"
   ]
  },
  {
   "cell_type": "code",
   "execution_count": null,
   "id": "9f3f2b0d",
   "metadata": {},
   "outputs": [],
   "source": []
  }
 ],
 "metadata": {
  "kernelspec": {
   "display_name": "Python 3",
   "language": "python",
   "name": "python3"
  },
  "language_info": {
   "codemirror_mode": {
    "name": "ipython",
    "version": 3
   },
   "file_extension": ".py",
   "mimetype": "text/x-python",
   "name": "python",
   "nbconvert_exporter": "python",
   "pygments_lexer": "ipython3",
   "version": "3.8.8"
  }
 },
 "nbformat": 4,
 "nbformat_minor": 5
}
