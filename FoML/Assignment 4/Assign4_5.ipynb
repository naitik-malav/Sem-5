{
 "cells": [
  {
   "cell_type": "markdown",
   "id": "a141ccca",
   "metadata": {},
   "source": [
    "# FoML  Assignment-4\n",
    "## Naitik Malav | CS19BTECH11026\n",
    "## 5th"
   ]
  },
  {
   "cell_type": "code",
   "execution_count": 1,
   "id": "cdbe05c8",
   "metadata": {},
   "outputs": [],
   "source": [
    "import numpy as np\n",
    "import pandas as pd\n",
    "import matplotlib.pyplot as plt\n",
    "from sklearn.metrics import precision_score, recall_score"
   ]
  },
  {
   "cell_type": "markdown",
   "id": "872c1709",
   "metadata": {},
   "source": [
    "### Importing training and test dataset from attached csv files (train.csv, test.csv)"
   ]
  },
  {
   "cell_type": "code",
   "execution_count": 2,
   "id": "ebcad43c",
   "metadata": {},
   "outputs": [],
   "source": [
    "train_df = pd.read_csv(\"train.csv\")\n",
    "test_df = pd.read_csv(\"test.csv\")"
   ]
  },
  {
   "cell_type": "code",
   "execution_count": 3,
   "id": "e96f971f",
   "metadata": {},
   "outputs": [],
   "source": [
    "X_train = train_df.iloc[:, :-1]\n",
    "Y_train = train_df.iloc[:, -1]\n",
    "X_test = test_df.iloc[:, :-1]\n",
    "Y_test = test_df.iloc[:, -1]"
   ]
  },
  {
   "cell_type": "code",
   "execution_count": 4,
   "id": "c9ccb277",
   "metadata": {},
   "outputs": [],
   "source": [
    "X_train = X_train.values\n",
    "X_test = X_test.values\n",
    "Y_train = Y_train.values\n",
    "Y_test = Y_test.values"
   ]
  },
  {
   "cell_type": "markdown",
   "id": "a2444ef0",
   "metadata": {},
   "source": [
    "### Transpose of each dataset"
   ]
  },
  {
   "cell_type": "code",
   "execution_count": 5,
   "id": "d0a141e1",
   "metadata": {},
   "outputs": [],
   "source": [
    "X_train = X_train.T\n",
    "X_test = X_test.T\n",
    "Y_train = Y_train.reshape(1, X_train.shape[1])\n",
    "Y_test = Y_test.reshape(1, X_test.shape[1])"
   ]
  },
  {
   "cell_type": "markdown",
   "id": "dce4f421",
   "metadata": {},
   "source": [
    "### 5th (a) \n",
    "### Logistic Regression Classifier trained using gradient descent and cross-entropy error(as the error function):"
   ]
  },
  {
   "cell_type": "markdown",
   "id": "69c2e4f4",
   "metadata": {},
   "source": [
    "### Sigmoid Function:"
   ]
  },
  {
   "cell_type": "code",
   "execution_count": 6,
   "id": "af37583c",
   "metadata": {},
   "outputs": [],
   "source": [
    "def sigmoid(z):\n",
    "    return (1/(1 + np.exp(-z)))"
   ]
  },
  {
   "cell_type": "markdown",
   "id": "06f12da1",
   "metadata": {},
   "source": [
    "### Cost Function / Cross-Entropy error function"
   ]
  },
  {
   "cell_type": "code",
   "execution_count": 7,
   "id": "b21ad58a",
   "metadata": {},
   "outputs": [],
   "source": [
    "def get_cost(m, Y, a):\n",
    "    return -(1/m)*np.sum(Y*np.log(a) + (1-Y)*np.log(1-a))"
   ]
  },
  {
   "cell_type": "code",
   "execution_count": 8,
   "id": "c9b26782",
   "metadata": {},
   "outputs": [],
   "source": [
    "def clf(X, Y, learningRate, iterations, W, B):\n",
    "    m, n = X_train.shape[1], X_train.shape[0]\n",
    "    \n",
    "    weights = W\n",
    "    base = B\n",
    "    \n",
    "    for i in range(iterations):\n",
    "        \n",
    "        z = np.dot(weights.T, X) + base\n",
    "        a = sigmoid(z)\n",
    "        cost = get_cost(m, Y, a)\n",
    "        \n",
    "        dWeights = (1/m)*np.dot(a-Y, X.T)\n",
    "        dBase = (1/m)*np.sum(a-Y)\n",
    "        weights -= learning_rate*dWeights.T\n",
    "        base -= learning_rate*dBase\n",
    "        \n",
    "        costs.append(cost)\n",
    "        \n",
    "        if(i%(iterations/10) == 1):\n",
    "            print(f\"Cost after {i} iterations is: {cost}\")\n",
    "    \n",
    "    return weights, base"
   ]
  },
  {
   "cell_type": "code",
   "execution_count": 9,
   "id": "f88b0bb9",
   "metadata": {},
   "outputs": [
    {
     "name": "stdout",
     "output_type": "stream",
     "text": [
      "Cost after 1 iterations is: 0.6930505532508043\n",
      "Cost after 10001 iterations is: 0.35214686672757545\n",
      "Cost after 20001 iterations is: 0.2323229709437589\n",
      "Cost after 30001 iterations is: 0.1736039027322533\n",
      "Cost after 40001 iterations is: 0.13887456663575598\n",
      "Cost after 50001 iterations is: 0.11589771056577576\n",
      "Cost after 60001 iterations is: 0.09954500104105682\n",
      "Cost after 70001 iterations is: 0.0872970040762255\n",
      "Cost after 80001 iterations is: 0.07777130144062172\n",
      "Cost after 90001 iterations is: 0.07014548494516984\n",
      "[[15.9651542 ]\n",
      " [ 4.32949164]] -11.175304777542943\n"
     ]
    }
   ],
   "source": [
    "iterations = 100000\n",
    "learning_rate = 0.01\n",
    "Weights = np.zeros((X_train.shape[0], 1))\n",
    "Bias = 0\n",
    "costs = []\n",
    "Weights, Bias = clf(X_train, Y_train, learning_rate, iterations, Weights, Bias)\n",
    "print(Weights, Bias)"
   ]
  },
  {
   "cell_type": "code",
   "execution_count": 10,
   "id": "097a08f3",
   "metadata": {},
   "outputs": [
    {
     "data": {
      "text/plain": [
       "[<matplotlib.lines.Line2D at 0x1eaecec0c40>]"
      ]
     },
     "execution_count": 10,
     "metadata": {},
     "output_type": "execute_result"
    },
    {
     "data": {
      "image/png": "[encoded data removed]",
      "text/plain": [
       "<Figure size 432x288 with 1 Axes>"
      ]
     },
     "metadata": {
      "needs_background": "light"
     },
     "output_type": "display_data"
    }
   ],
   "source": [
    "plt.plot(costs)"
   ]
  },
  {
   "cell_type": "markdown",
   "id": "a5e24e00",
   "metadata": {},
   "source": [
    "## 5th (b)"
   ]
  },
  {
   "cell_type": "markdown",
   "id": "56505649",
   "metadata": {},
   "source": [
    "### (i) Here Weights = [[theta1], [theta2]] = [[1.5], [0.5]] and Bias = theta0 = -1 and learning rate = 0.1"
   ]
  },
  {
   "cell_type": "code",
   "execution_count": 11,
   "id": "187840bd",
   "metadata": {},
   "outputs": [
    {
     "name": "stdout",
     "output_type": "stream",
     "text": [
      "Cost after 1 iterations is: 0.5565250322222675\n",
      "Cost after 10001 iterations is: 0.06242069275259844\n",
      "Cost after 20001 iterations is: 0.03354464004530305\n",
      "Cost after 30001 iterations is: 0.023001781106332973\n",
      "Cost after 40001 iterations is: 0.017520807317677363\n",
      "Cost after 50001 iterations is: 0.01415743325113888\n",
      "Cost after 60001 iterations is: 0.011881544861452925\n",
      "Cost after 70001 iterations is: 0.010238423119169103\n",
      "Cost after 80001 iterations is: 0.0089960356691871\n",
      "Cost after 90001 iterations is: 0.008023523504658413\n",
      "[[31.36347263]\n",
      " [ 7.53262099]]\n",
      "-21.19055157257816\n"
     ]
    }
   ],
   "source": [
    "Weights = np.array([[1.5], [0.5]])\n",
    "Bias = -1\n",
    "\n",
    "learning_rate = 0.1\n",
    "iterations = 100000 #sample iterations set to be 100000\n",
    "costs = []\n",
    "\n",
    "#clf will update the new weights and bias.\n",
    "Weights, Bias = clf(X_train, Y_train, learning_rate, iterations, Weights, Bias)\n",
    "print(Weights)\n",
    "print(Bias)"
   ]
  },
  {
   "cell_type": "markdown",
   "id": "57600a27",
   "metadata": {},
   "source": [
    "### (ii) Using gradient descent to update θ0, θ1, θ2 for one iteration."
   ]
  },
  {
   "cell_type": "code",
   "execution_count": 12,
   "id": "1a7e9839",
   "metadata": {},
   "outputs": [
    {
     "name": "stdout",
     "output_type": "stream",
     "text": [
      "After 1 iteration\n",
      "New weights are:\n",
      " [[1.50535086]\n",
      " [0.50196867]]\n",
      "\n",
      "New Bias is:\n",
      " [-1.00316626]\n"
     ]
    }
   ],
   "source": [
    "Weights = np.array([[1.5], [0.5]])\n",
    "Bias = [-1]\n",
    "\n",
    "learning_rate = 0.1\n",
    "iterations = 1\n",
    "costs = []\n",
    "\n",
    "W, B = clf(X_train, Y_train, learning_rate, iterations, Weights, Bias)\n",
    "\n",
    "print(\"After 1 iteration\")\n",
    "print(\"New weights are:\\n\", W)\n",
    "print(\"\\nNew Bias is:\\n\", B)"
   ]
  },
  {
   "cell_type": "markdown",
   "id": "cc94e458",
   "metadata": {},
   "source": [
    "### (iii) Accuracy "
   ]
  },
  {
   "cell_type": "code",
   "execution_count": 13,
   "id": "8807b866",
   "metadata": {},
   "outputs": [],
   "source": [
    "def accuracy(X, Y, Weights, Bias):\n",
    "    Z = np.dot(Weights.T, X) + Bias\n",
    "    A = sigmoid(Z)\n",
    "    A = A > 0.5\n",
    "    A = np.array(A, dtype = 'int64')\n",
    "    \n",
    "    accuracy = (1-np.sum(np.absolute(A-Y))/Y.shape[1])*100\n",
    "    print(\"Accuracy of the model is : \", round(accuracy, 4), \"%\")\n",
    "    \n",
    "    return A"
   ]
  },
  {
   "cell_type": "code",
   "execution_count": 14,
   "id": "45fae601",
   "metadata": {
    "scrolled": false
   },
   "outputs": [
    {
     "data": {
      "text/plain": [
       "<matplotlib.collections.PathCollection at 0x1eaed279f70>"
      ]
     },
     "execution_count": 14,
     "metadata": {},
     "output_type": "execute_result"
    },
    {
     "data": {
      "image/png": "[encoded data removed]",
      "text/plain": [
       "<Figure size 432x288 with 1 Axes>"
      ]
     },
     "metadata": {
      "needs_background": "light"
     },
     "output_type": "display_data"
    }
   ],
   "source": [
    "plt.scatter(test_df['x1'],test_df['y'])\n",
    "plt.scatter(test_df['x2'],test_df['y'])"
   ]
  },
  {
   "cell_type": "code",
   "execution_count": 15,
   "id": "83969bd4",
   "metadata": {},
   "outputs": [
    {
     "name": "stdout",
     "output_type": "stream",
     "text": [
      "Accuracy of the model is :  66.6667 %\n",
      "Precision: 0.600\n",
      "Recall: 1.000\n"
     ]
    }
   ],
   "source": [
    "y_pred = accuracy(X_test, Y_test, W, B)\n",
    "precision = precision_score(Y_test[0], y_pred[0], average='binary')    \n",
    "recall = recall_score(Y_test[0], y_pred[0], average='binary')                  \n",
    "print('Precision: %.3f' % precision)\n",
    "print('Recall: %.3f' % recall)"
   ]
  },
  {
   "cell_type": "code",
   "execution_count": null,
   "id": "edd4de83",
   "metadata": {},
   "outputs": [],
   "source": []
  },
  {
   "cell_type": "code",
   "execution_count": null,
   "id": "01f41fc2",
   "metadata": {},
   "outputs": [],
   "source": []
  },
  {
   "cell_type": "code",
   "execution_count": null,
   "id": "f09d8cbd",
   "metadata": {},
   "outputs": [],
   "source": []
  }
 ],
 "metadata": {
  "kernelspec": {
   "display_name": "Python 3",
   "language": "python",
   "name": "python3"
  },
  "language_info": {
   "codemirror_mode": {
    "name": "ipython",
    "version": 3
   },
   "file_extension": ".py",
   "mimetype": "text/x-python",
   "name": "python",
   "nbconvert_exporter": "python",
   "pygments_lexer": "ipython3",
   "version": "3.8.8"
  }
 },
 "nbformat": 4,
 "nbformat_minor": 5
}
