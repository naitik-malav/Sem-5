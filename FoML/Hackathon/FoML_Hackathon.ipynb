{
 "cells": [
  {
   "cell_type": "code",
   "execution_count": 927,
   "id": "51ae354c",
   "metadata": {},
   "outputs": [],
   "source": [
    "import pandas as pd \n",
    "import numpy as np\n",
    "import matplotlib.pyplot as plt\n",
    "import math\n",
    "from sklearn.preprocessing import OneHotEncoder,LabelEncoder\n",
    "from sklearn.ensemble import GradientBoostingClassifier, RandomForestClassifier"
   ]
  },
  {
   "cell_type": "code",
   "execution_count": 980,
   "id": "c41d40a0",
   "metadata": {},
   "outputs": [],
   "source": [
    "df = pd.read_csv(\"train.csv\")"
   ]
  },
  {
   "cell_type": "code",
   "execution_count": 981,
   "id": "0049957d",
   "metadata": {},
   "outputs": [],
   "source": [
    "df['Dates'] = pd.to_datetime(df['Crash Date/Time']).dt.date\n",
    "df['Time'] = pd.to_datetime(df['Crash Date/Time']).dt.time\n",
    "df['Day'] = pd.to_datetime(df['Crash Date/Time']).dt.day"
   ]
  },
  {
   "cell_type": "code",
   "execution_count": 982,
   "id": "4567481f",
   "metadata": {},
   "outputs": [],
   "source": [
    "df['Year'] = pd.DatetimeIndex(df['Dates']).year\n",
    "df['Month'] = pd.DatetimeIndex(df['Dates']).month"
   ]
  },
  {
   "cell_type": "code",
   "execution_count": 983,
   "id": "12e68cd4",
   "metadata": {
    "scrolled": true
   },
   "outputs": [
    {
     "data": {
      "text/plain": [
       "Index(['x', 'Local Case Number', 'Agency Name', 'ACRS Report Type',\n",
       "       'Crash Date/Time', 'Route Type', 'Road Name', 'Cross-Street Type',\n",
       "       'Cross-Street Name', 'Off-Road Description', 'Municipality',\n",
       "       'Related Non-Motorist', 'Collision Type', 'Weather',\n",
       "       'Surface Condition', 'Light', 'Traffic Control',\n",
       "       'Driver Substance Abuse', 'Non-Motorist Substance Abuse', 'Person ID',\n",
       "       'Injury Severity', 'Circumstance', 'Drivers License State',\n",
       "       'Vehicle ID', 'Vehicle Damage Extent', 'Vehicle First Impact Location',\n",
       "       'Vehicle Second Impact Location', 'Vehicle Body Type',\n",
       "       'Vehicle Movement', 'Vehicle Continuing Dir', 'Vehicle Going Dir',\n",
       "       'Speed Limit', 'Driverless Vehicle', 'Parked Vehicle', 'Vehicle Year',\n",
       "       'Vehicle Make', 'Vehicle Model', 'Equipment Problems', 'Latitude',\n",
       "       'Longitude', 'Location', 'Fault', 'Dates', 'Time', 'Day', 'Year',\n",
       "       'Month'],\n",
       "      dtype='object')"
      ]
     },
     "execution_count": 983,
     "metadata": {},
     "output_type": "execute_result"
    }
   ],
   "source": [
    "df.keys()"
   ]
  },
  {
   "cell_type": "code",
   "execution_count": 984,
   "id": "9ceaa1af",
   "metadata": {},
   "outputs": [
    {
     "name": "stdout",
     "output_type": "stream",
     "text": [
      "<class 'pandas.core.frame.DataFrame'>\n",
      "RangeIndex: 51490 entries, 0 to 51489\n",
      "Data columns (total 47 columns):\n",
      " #   Column                          Non-Null Count  Dtype  \n",
      "---  ------                          --------------  -----  \n",
      " 0   x                               51490 non-null  object \n",
      " 1   Local Case Number               45037 non-null  object \n",
      " 2   Agency Name                     51490 non-null  object \n",
      " 3   ACRS Report Type                51490 non-null  object \n",
      " 4   Crash Date/Time                 51490 non-null  object \n",
      " 5   Route Type                      46522 non-null  object \n",
      " 6   Road Name                       46988 non-null  object \n",
      " 7   Cross-Street Type               46471 non-null  object \n",
      " 8   Cross-Street Name               46968 non-null  object \n",
      " 9   Off-Road Description            6950 non-null   object \n",
      " 10  Municipality                    7567 non-null   object \n",
      " 11  Related Non-Motorist            3648 non-null   object \n",
      " 12  Collision Type                  51191 non-null  object \n",
      " 13  Weather                         47461 non-null  object \n",
      " 14  Surface Condition               45611 non-null  object \n",
      " 15  Light                           50786 non-null  object \n",
      " 16  Traffic Control                 43716 non-null  object \n",
      " 17  Driver Substance Abuse          42395 non-null  object \n",
      " 18  Non-Motorist Substance Abuse    3384 non-null   object \n",
      " 19  Person ID                       51490 non-null  object \n",
      " 20  Injury Severity                 51490 non-null  object \n",
      " 21  Circumstance                    11752 non-null  object \n",
      " 22  Drivers License State           48962 non-null  object \n",
      " 23  Vehicle ID                      51490 non-null  object \n",
      " 24  Vehicle Damage Extent           51093 non-null  object \n",
      " 25  Vehicle First Impact Location   51268 non-null  object \n",
      " 26  Vehicle Second Impact Location  51256 non-null  object \n",
      " 27  Vehicle Body Type               50705 non-null  object \n",
      " 28  Vehicle Movement                51292 non-null  object \n",
      " 29  Vehicle Continuing Dir          50361 non-null  object \n",
      " 30  Vehicle Going Dir               50377 non-null  object \n",
      " 31  Speed Limit                     51490 non-null  int64  \n",
      " 32  Driverless Vehicle              51490 non-null  object \n",
      " 33  Parked Vehicle                  51490 non-null  object \n",
      " 34  Vehicle Year                    51490 non-null  int64  \n",
      " 35  Vehicle Make                    51482 non-null  object \n",
      " 36  Vehicle Model                   51471 non-null  object \n",
      " 37  Equipment Problems              40824 non-null  object \n",
      " 38  Latitude                        51490 non-null  float64\n",
      " 39  Longitude                       51490 non-null  float64\n",
      " 40  Location                        51490 non-null  object \n",
      " 41  Fault                           51490 non-null  int64  \n",
      " 42  Dates                           51490 non-null  object \n",
      " 43  Time                            51490 non-null  object \n",
      " 44  Day                             51490 non-null  int64  \n",
      " 45  Year                            51490 non-null  int64  \n",
      " 46  Month                           51490 non-null  int64  \n",
      "dtypes: float64(2), int64(6), object(39)\n",
      "memory usage: 18.5+ MB\n"
     ]
    }
   ],
   "source": [
    "df.info()"
   ]
  },
  {
   "cell_type": "code",
   "execution_count": 985,
   "id": "466a0c77",
   "metadata": {},
   "outputs": [],
   "source": [
    "cols = [0, 1, 4, 6, 8, 9, 10, 11, 18, 19, 21, 23, 27, 34, 36, 40, 42, 43]\n",
    "df = df.drop(df.columns[cols], axis=1)"
   ]
  },
  {
   "cell_type": "code",
   "execution_count": 986,
   "id": "4cc653c4",
   "metadata": {},
   "outputs": [],
   "source": [
    "df.dropna(axis=0, how='any', inplace=True)"
   ]
  },
  {
   "cell_type": "code",
   "execution_count": 987,
   "id": "a29787cd",
   "metadata": {
    "scrolled": false
   },
   "outputs": [
    {
     "data": {
      "text/plain": [
       "(23918, 29)"
      ]
     },
     "execution_count": 987,
     "metadata": {},
     "output_type": "execute_result"
    }
   ],
   "source": [
    "df.shape"
   ]
  },
  {
   "cell_type": "code",
   "execution_count": 988,
   "id": "cdd4baa7",
   "metadata": {},
   "outputs": [
    {
     "data": {
      "text/plain": [
       "Index(['Agency Name', 'ACRS Report Type', 'Route Type', 'Cross-Street Type',\n",
       "       'Collision Type', 'Weather', 'Surface Condition', 'Light',\n",
       "       'Traffic Control', 'Driver Substance Abuse', 'Injury Severity',\n",
       "       'Drivers License State', 'Vehicle Damage Extent',\n",
       "       'Vehicle First Impact Location', 'Vehicle Second Impact Location',\n",
       "       'Vehicle Movement', 'Vehicle Continuing Dir', 'Vehicle Going Dir',\n",
       "       'Speed Limit', 'Driverless Vehicle', 'Parked Vehicle', 'Vehicle Make',\n",
       "       'Equipment Problems', 'Latitude', 'Longitude', 'Fault', 'Day', 'Year',\n",
       "       'Month'],\n",
       "      dtype='object')"
      ]
     },
     "execution_count": 988,
     "metadata": {},
     "output_type": "execute_result"
    }
   ],
   "source": [
    "df.keys()"
   ]
  },
  {
   "cell_type": "code",
   "execution_count": 989,
   "id": "0c482c87",
   "metadata": {},
   "outputs": [],
   "source": [
    "# for col in df:\n",
    "#     print(col, \" \",len(df[col].unique()))\n",
    "    \n",
    "# for col in df_test:\n",
    "#     print(col, \" \",len(df_test[col].unique()))\n",
    "    "
   ]
  },
  {
   "cell_type": "code",
   "execution_count": 990,
   "id": "5a7d24d0",
   "metadata": {},
   "outputs": [],
   "source": [
    "def one_hot_encode(df):\n",
    "    cols = ['Agency Name', 'ACRS Report Type', 'Speed Limit', 'Driverless Vehicle', 'Parked Vehicle', 'Route Type', \n",
    "            'Cross-Street Type', 'Collision Type', 'Weather', 'Surface Condition', \n",
    "            'Traffic Control', 'Driver Substance Abuse', 'Light', 'Vehicle Continuing Dir',\n",
    "            'Vehicle Going Dir', 'Vehicle First Impact Location', \n",
    "            'Vehicle Second Impact Location', 'Vehicle Movement', 'Vehicle Damage Extent']\n",
    "    one_hot_encoded_data = pd.get_dummies(df, columns = cols)\n",
    "    df = one_hot_encoded_data\n",
    "    return df\n",
    "\n",
    "def ranking_encode(df):\n",
    "    orderal_columns = ['Drivers License State', 'Vehicle Make',\n",
    "       'Equipment Problems', 'Injury Severity']\n",
    "    orderal_encoder = LabelEncoder()\n",
    "    for column in orderal_columns:\n",
    "        df[column] = orderal_encoder.fit_transform(df[column])\n",
    "    return df"
   ]
  },
  {
   "cell_type": "code",
   "execution_count": 991,
   "id": "3031a6bd",
   "metadata": {},
   "outputs": [
    {
     "name": "stdout",
     "output_type": "stream",
     "text": [
      "              Injury Severity Drivers License State Vehicle Make  \\\n",
      "0      SUSPECTED MINOR INJURY                    MD          GMC   \n",
      "1          NO APPARENT INJURY                    MD         FORD   \n",
      "3             POSSIBLE INJURY                    MD         CHEV   \n",
      "4      SUSPECTED MINOR INJURY                    MD          KIA   \n",
      "5          NO APPARENT INJURY                    MD       TOYOTA   \n",
      "...                       ...                   ...          ...   \n",
      "51480         POSSIBLE INJURY                    WA        HONDA   \n",
      "51484      NO APPARENT INJURY                    MD         SPAR   \n",
      "51487  SUSPECTED MINOR INJURY                    MD      PONTIAC   \n",
      "51488         POSSIBLE INJURY                    MD         FORD   \n",
      "51489      NO APPARENT INJURY                    MD         MACK   \n",
      "\n",
      "      Equipment Problems   Latitude  Longitude  Fault  Day  Year  Month  ...  \\\n",
      "0              NO MISUSE  39.263378 -77.344203      1    5  2017      6  ...   \n",
      "1              NO MISUSE  39.068913 -77.063227      1   22  2020      2  ...   \n",
      "3                  OTHER  39.083480 -77.086933      1   10  2019      5  ...   \n",
      "4              NO MISUSE  38.996942 -77.109168      0    2  2016      8  ...   \n",
      "5              NO MISUSE  39.036942 -77.138228      1   30  2016     12  ...   \n",
      "...                  ...        ...        ...    ...  ...   ...    ...  ...   \n",
      "51480          NO MISUSE  39.245975 -77.204887      1   18  2016      7  ...   \n",
      "51484          NO MISUSE  39.115683 -77.014525      1   11  2016      3  ...   \n",
      "51487          NO MISUSE  39.191402 -77.266897      0    4  2016     10  ...   \n",
      "51488          NO MISUSE  39.066993 -77.153778      0    5  2016      7  ...   \n",
      "51489          NO MISUSE  39.060417 -77.044988      0   16  2017      5  ...   \n",
      "\n",
      "       Vehicle Movement_STARTING FROM PARKED  \\\n",
      "0                                          0   \n",
      "1                                          0   \n",
      "3                                          0   \n",
      "4                                          0   \n",
      "5                                          0   \n",
      "...                                      ...   \n",
      "51480                                      0   \n",
      "51484                                      0   \n",
      "51487                                      0   \n",
      "51488                                      0   \n",
      "51489                                      0   \n",
      "\n",
      "       Vehicle Movement_STOPPED IN TRAFFIC LANE  Vehicle Movement_UNKNOWN  \\\n",
      "0                                             0                         0   \n",
      "1                                             0                         0   \n",
      "3                                             0                         0   \n",
      "4                                             0                         0   \n",
      "5                                             0                         0   \n",
      "...                                         ...                       ...   \n",
      "51480                                         0                         0   \n",
      "51484                                         0                         0   \n",
      "51487                                         0                         0   \n",
      "51488                                         0                         0   \n",
      "51489                                         0                         0   \n",
      "\n",
      "       Vehicle Damage Extent_DESTROYED  Vehicle Damage Extent_DISABLING  \\\n",
      "0                                    1                                0   \n",
      "1                                    0                                1   \n",
      "3                                    0                                0   \n",
      "4                                    0                                1   \n",
      "5                                    1                                0   \n",
      "...                                ...                              ...   \n",
      "51480                                0                                1   \n",
      "51484                                0                                0   \n",
      "51487                                0                                1   \n",
      "51488                                0                                1   \n",
      "51489                                0                                0   \n",
      "\n",
      "       Vehicle Damage Extent_FUNCTIONAL  Vehicle Damage Extent_NO DAMAGE  \\\n",
      "0                                     0                                0   \n",
      "1                                     0                                0   \n",
      "3                                     1                                0   \n",
      "4                                     0                                0   \n",
      "5                                     0                                0   \n",
      "...                                 ...                              ...   \n",
      "51480                                 0                                0   \n",
      "51484                                 1                                0   \n",
      "51487                                 0                                0   \n",
      "51488                                 0                                0   \n",
      "51489                                 0                                0   \n",
      "\n",
      "       Vehicle Damage Extent_OTHER  Vehicle Damage Extent_SUPERFICIAL  \\\n",
      "0                                0                                  0   \n",
      "1                                0                                  0   \n",
      "3                                0                                  0   \n",
      "4                                0                                  0   \n",
      "5                                0                                  0   \n",
      "...                            ...                                ...   \n",
      "51480                            0                                  0   \n",
      "51484                            0                                  0   \n",
      "51487                            0                                  0   \n",
      "51488                            0                                  0   \n",
      "51489                            0                                  1   \n",
      "\n",
      "       Vehicle Damage Extent_UNKNOWN  \n",
      "0                                  0  \n",
      "1                                  0  \n",
      "3                                  0  \n",
      "4                                  0  \n",
      "5                                  0  \n",
      "...                              ...  \n",
      "51480                              0  \n",
      "51484                              0  \n",
      "51487                              0  \n",
      "51488                              0  \n",
      "51489                              0  \n",
      "\n",
      "[23918 rows x 204 columns]\n"
     ]
    }
   ],
   "source": [
    "df = one_hot_encode(df)\n",
    "print(df)"
   ]
  },
  {
   "cell_type": "code",
   "execution_count": 992,
   "id": "3194937e",
   "metadata": {},
   "outputs": [
    {
     "name": "stdout",
     "output_type": "stream",
     "text": [
      "       Injury Severity  Drivers License State  Vehicle Make  \\\n",
      "0                    3                     25           216   \n",
      "1                    1                     25           157   \n",
      "3                    2                     25            75   \n",
      "4                    3                     25           352   \n",
      "5                    1                     25           667   \n",
      "...                ...                    ...           ...   \n",
      "51480                2                     59           249   \n",
      "51484                1                     25           588   \n",
      "51487                3                     25           537   \n",
      "51488                2                     25           157   \n",
      "51489                1                     25           387   \n",
      "\n",
      "       Equipment Problems   Latitude  Longitude  Fault  Day  Year  Month  ...  \\\n",
      "0                       4  39.263378 -77.344203      1    5  2017      6  ...   \n",
      "1                       4  39.068913 -77.063227      1   22  2020      2  ...   \n",
      "3                       5  39.083480 -77.086933      1   10  2019      5  ...   \n",
      "4                       4  38.996942 -77.109168      0    2  2016      8  ...   \n",
      "5                       4  39.036942 -77.138228      1   30  2016     12  ...   \n",
      "...                   ...        ...        ...    ...  ...   ...    ...  ...   \n",
      "51480                   4  39.245975 -77.204887      1   18  2016      7  ...   \n",
      "51484                   4  39.115683 -77.014525      1   11  2016      3  ...   \n",
      "51487                   4  39.191402 -77.266897      0    4  2016     10  ...   \n",
      "51488                   4  39.066993 -77.153778      0    5  2016      7  ...   \n",
      "51489                   4  39.060417 -77.044988      0   16  2017      5  ...   \n",
      "\n",
      "       Vehicle Movement_STARTING FROM PARKED  \\\n",
      "0                                          0   \n",
      "1                                          0   \n",
      "3                                          0   \n",
      "4                                          0   \n",
      "5                                          0   \n",
      "...                                      ...   \n",
      "51480                                      0   \n",
      "51484                                      0   \n",
      "51487                                      0   \n",
      "51488                                      0   \n",
      "51489                                      0   \n",
      "\n",
      "       Vehicle Movement_STOPPED IN TRAFFIC LANE  Vehicle Movement_UNKNOWN  \\\n",
      "0                                             0                         0   \n",
      "1                                             0                         0   \n",
      "3                                             0                         0   \n",
      "4                                             0                         0   \n",
      "5                                             0                         0   \n",
      "...                                         ...                       ...   \n",
      "51480                                         0                         0   \n",
      "51484                                         0                         0   \n",
      "51487                                         0                         0   \n",
      "51488                                         0                         0   \n",
      "51489                                         0                         0   \n",
      "\n",
      "       Vehicle Damage Extent_DESTROYED  Vehicle Damage Extent_DISABLING  \\\n",
      "0                                    1                                0   \n",
      "1                                    0                                1   \n",
      "3                                    0                                0   \n",
      "4                                    0                                1   \n",
      "5                                    1                                0   \n",
      "...                                ...                              ...   \n",
      "51480                                0                                1   \n",
      "51484                                0                                0   \n",
      "51487                                0                                1   \n",
      "51488                                0                                1   \n",
      "51489                                0                                0   \n",
      "\n",
      "       Vehicle Damage Extent_FUNCTIONAL  Vehicle Damage Extent_NO DAMAGE  \\\n",
      "0                                     0                                0   \n",
      "1                                     0                                0   \n",
      "3                                     1                                0   \n",
      "4                                     0                                0   \n",
      "5                                     0                                0   \n",
      "...                                 ...                              ...   \n",
      "51480                                 0                                0   \n",
      "51484                                 1                                0   \n",
      "51487                                 0                                0   \n",
      "51488                                 0                                0   \n",
      "51489                                 0                                0   \n",
      "\n",
      "       Vehicle Damage Extent_OTHER  Vehicle Damage Extent_SUPERFICIAL  \\\n",
      "0                                0                                  0   \n",
      "1                                0                                  0   \n",
      "3                                0                                  0   \n",
      "4                                0                                  0   \n",
      "5                                0                                  0   \n",
      "...                            ...                                ...   \n",
      "51480                            0                                  0   \n",
      "51484                            0                                  0   \n",
      "51487                            0                                  0   \n",
      "51488                            0                                  0   \n",
      "51489                            0                                  1   \n",
      "\n",
      "       Vehicle Damage Extent_UNKNOWN  \n",
      "0                                  0  \n",
      "1                                  0  \n",
      "3                                  0  \n",
      "4                                  0  \n",
      "5                                  0  \n",
      "...                              ...  \n",
      "51480                              0  \n",
      "51484                              0  \n",
      "51487                              0  \n",
      "51488                              0  \n",
      "51489                              0  \n",
      "\n",
      "[23918 rows x 204 columns]\n"
     ]
    }
   ],
   "source": [
    "df = ranking_encode(df)\n",
    "print(df)"
   ]
  },
  {
   "cell_type": "code",
   "execution_count": 993,
   "id": "4ef87340",
   "metadata": {},
   "outputs": [
    {
     "name": "stdout",
     "output_type": "stream",
     "text": [
      "(23918, 203)\n",
      "(23918,)\n"
     ]
    }
   ],
   "source": [
    "X_train = df.loc[ : , df.columns != 'Fault'].values\n",
    "Y_train = df['Fault'].values\n",
    "\n",
    "print(X_train.shape)\n",
    "print(Y_train.shape)"
   ]
  },
  {
   "cell_type": "code",
   "execution_count": 995,
   "id": "3da2c22c",
   "metadata": {
    "scrolled": true
   },
   "outputs": [],
   "source": [
    "df_test = pd.read_csv(\"test.csv\")"
   ]
  },
  {
   "cell_type": "code",
   "execution_count": 996,
   "id": "2ffeabbe",
   "metadata": {
    "scrolled": true
   },
   "outputs": [
    {
     "data": {
      "text/plain": [
       "(77235, 42)"
      ]
     },
     "execution_count": 996,
     "metadata": {},
     "output_type": "execute_result"
    }
   ],
   "source": [
    "df_test.shape"
   ]
  },
  {
   "cell_type": "code",
   "execution_count": 997,
   "id": "08167345",
   "metadata": {
    "scrolled": true
   },
   "outputs": [
    {
     "data": {
      "text/plain": [
       "Index(['Id', 'Report Number', 'Local Case Number', 'Agency Name',\n",
       "       'ACRS Report Type', 'Crash Date/Time', 'Route Type', 'Road Name',\n",
       "       'Cross-Street Type', 'Cross-Street Name', 'Off-Road Description',\n",
       "       'Municipality', 'Related Non-Motorist', 'Collision Type', 'Weather',\n",
       "       'Surface Condition', 'Light', 'Traffic Control',\n",
       "       'Driver Substance Abuse', 'Non-Motorist Substance Abuse', 'Person ID',\n",
       "       'Injury Severity', 'Circumstance', 'Drivers License State',\n",
       "       'Vehicle ID', 'Vehicle Damage Extent', 'Vehicle First Impact Location',\n",
       "       'Vehicle Second Impact Location', 'Vehicle Body Type',\n",
       "       'Vehicle Movement', 'Vehicle Continuing Dir', 'Vehicle Going Dir',\n",
       "       'Speed Limit', 'Driverless Vehicle', 'Parked Vehicle', 'Vehicle Year',\n",
       "       'Vehicle Make', 'Vehicle Model', 'Equipment Problems', 'Latitude',\n",
       "       'Longitude', 'Location'],\n",
       "      dtype='object')"
      ]
     },
     "execution_count": 997,
     "metadata": {},
     "output_type": "execute_result"
    }
   ],
   "source": [
    "df_test.columns"
   ]
  },
  {
   "cell_type": "code",
   "execution_count": 998,
   "id": "185a2125",
   "metadata": {},
   "outputs": [],
   "source": [
    "df_test['Dates'] = pd.to_datetime(df_test['Crash Date/Time']).dt.date\n",
    "df_test['Time'] = pd.to_datetime(df_test['Crash Date/Time']).dt.time\n",
    "df_test['Day'] = pd.to_datetime(df_test['Crash Date/Time']).dt.day\n",
    "df_test['Year'] = pd.DatetimeIndex(df_test['Dates']).year\n",
    "df_test['Month'] = pd.DatetimeIndex(df_test['Dates']).month"
   ]
  },
  {
   "cell_type": "code",
   "execution_count": 999,
   "id": "8eb7969b",
   "metadata": {},
   "outputs": [],
   "source": [
    "ids = df_test['Id']"
   ]
  },
  {
   "cell_type": "code",
   "execution_count": 1000,
   "id": "60507bc8",
   "metadata": {},
   "outputs": [
    {
     "name": "stdout",
     "output_type": "stream",
     "text": [
      "<class 'pandas.core.frame.DataFrame'>\n",
      "RangeIndex: 77235 entries, 0 to 77234\n",
      "Data columns (total 47 columns):\n",
      " #   Column                          Non-Null Count  Dtype  \n",
      "---  ------                          --------------  -----  \n",
      " 0   Id                              77235 non-null  int64  \n",
      " 1   Report Number                   77235 non-null  object \n",
      " 2   Local Case Number               67162 non-null  object \n",
      " 3   Agency Name                     77235 non-null  object \n",
      " 4   ACRS Report Type                77235 non-null  object \n",
      " 5   Crash Date/Time                 77235 non-null  object \n",
      " 6   Route Type                      69768 non-null  object \n",
      " 7   Road Name                       70166 non-null  object \n",
      " 8   Cross-Street Type               69755 non-null  object \n",
      " 9   Cross-Street Name               70164 non-null  object \n",
      " 10  Off-Road Description            7069 non-null   object \n",
      " 11  Municipality                    8498 non-null   object \n",
      " 12  Related Non-Motorist            2248 non-null   object \n",
      " 13  Collision Type                  76990 non-null  object \n",
      " 14  Weather                         71239 non-null  object \n",
      " 15  Surface Condition               68182 non-null  object \n",
      " 16  Light                           76615 non-null  object \n",
      " 17  Traffic Control                 65185 non-null  object \n",
      " 18  Driver Substance Abuse          63152 non-null  object \n",
      " 19  Non-Motorist Substance Abuse    1777 non-null   object \n",
      " 20  Person ID                       77235 non-null  object \n",
      " 21  Injury Severity                 77235 non-null  object \n",
      " 22  Circumstance                    14545 non-null  object \n",
      " 23  Drivers License State           73315 non-null  object \n",
      " 24  Vehicle ID                      77235 non-null  object \n",
      " 25  Vehicle Damage Extent           77099 non-null  object \n",
      " 26  Vehicle First Impact Location   77154 non-null  object \n",
      " 27  Vehicle Second Impact Location  77096 non-null  object \n",
      " 28  Vehicle Body Type               76128 non-null  object \n",
      " 29  Vehicle Movement                77082 non-null  object \n",
      " 30  Vehicle Continuing Dir          76034 non-null  object \n",
      " 31  Vehicle Going Dir               76034 non-null  object \n",
      " 32  Speed Limit                     77235 non-null  int64  \n",
      " 33  Driverless Vehicle              77235 non-null  object \n",
      " 34  Parked Vehicle                  77235 non-null  object \n",
      " 35  Vehicle Year                    77235 non-null  int64  \n",
      " 36  Vehicle Make                    77222 non-null  object \n",
      " 37  Vehicle Model                   77201 non-null  object \n",
      " 38  Equipment Problems              60811 non-null  object \n",
      " 39  Latitude                        77235 non-null  float64\n",
      " 40  Longitude                       77235 non-null  float64\n",
      " 41  Location                        77235 non-null  object \n",
      " 42  Dates                           77235 non-null  object \n",
      " 43  Time                            77235 non-null  object \n",
      " 44  Day                             77235 non-null  int64  \n",
      " 45  Year                            77235 non-null  int64  \n",
      " 46  Month                           77235 non-null  int64  \n",
      "dtypes: float64(2), int64(6), object(39)\n",
      "memory usage: 27.7+ MB\n"
     ]
    }
   ],
   "source": [
    "df_test.info()"
   ]
  },
  {
   "cell_type": "code",
   "execution_count": 1001,
   "id": "8de7626a",
   "metadata": {},
   "outputs": [],
   "source": [
    "cols = [0, 1, 2, 5, 7, 9, 10, 11, 12, 19, 20, 22, 24, 28, 35, 37, 41, 42, 43]"
   ]
  },
  {
   "cell_type": "code",
   "execution_count": 1002,
   "id": "f9e01cbf",
   "metadata": {
    "scrolled": true
   },
   "outputs": [],
   "source": [
    "df_test = df_test.drop(df_test.columns[cols], axis=1)"
   ]
  },
  {
   "cell_type": "code",
   "execution_count": 1003,
   "id": "9fe8149c",
   "metadata": {},
   "outputs": [
    {
     "data": {
      "text/plain": [
       "Index(['Agency Name', 'ACRS Report Type', 'Route Type', 'Cross-Street Type',\n",
       "       'Collision Type', 'Weather', 'Surface Condition', 'Light',\n",
       "       'Traffic Control', 'Driver Substance Abuse', 'Injury Severity',\n",
       "       'Drivers License State', 'Vehicle Damage Extent',\n",
       "       'Vehicle First Impact Location', 'Vehicle Second Impact Location',\n",
       "       'Vehicle Movement', 'Vehicle Continuing Dir', 'Vehicle Going Dir',\n",
       "       'Speed Limit', 'Driverless Vehicle', 'Parked Vehicle', 'Vehicle Make',\n",
       "       'Equipment Problems', 'Latitude', 'Longitude', 'Day', 'Year', 'Month'],\n",
       "      dtype='object')"
      ]
     },
     "execution_count": 1003,
     "metadata": {},
     "output_type": "execute_result"
    }
   ],
   "source": [
    "df_test.keys()\n"
   ]
  },
  {
   "cell_type": "code",
   "execution_count": 1004,
   "id": "d6bda556",
   "metadata": {},
   "outputs": [
    {
     "data": {
      "text/plain": [
       "(77235, 28)"
      ]
     },
     "execution_count": 1004,
     "metadata": {},
     "output_type": "execute_result"
    }
   ],
   "source": [
    "df_test.shape"
   ]
  },
  {
   "cell_type": "code",
   "execution_count": 1005,
   "id": "fa90cc5f",
   "metadata": {},
   "outputs": [
    {
     "data": {
      "text/plain": [
       "(77235, 28)"
      ]
     },
     "execution_count": 1005,
     "metadata": {},
     "output_type": "execute_result"
    }
   ],
   "source": [
    "df_test.shape"
   ]
  },
  {
   "cell_type": "code",
   "execution_count": 1006,
   "id": "fb7d88ea",
   "metadata": {},
   "outputs": [
    {
     "name": "stdout",
     "output_type": "stream",
     "text": [
      "              Injury Severity Drivers License State  Vehicle Make  \\\n",
      "0          NO APPARENT INJURY                    MD         LEXUS   \n",
      "1          NO APPARENT INJURY                    MD    MITSUBISHI   \n",
      "2          NO APPARENT INJURY                    MD  FRIEGHTLINER   \n",
      "3          NO APPARENT INJURY                    MD          FORD   \n",
      "4          NO APPARENT INJURY                   NaN          UTIL   \n",
      "...                       ...                   ...           ...   \n",
      "77230      NO APPARENT INJURY                    MD    PETERBUILT   \n",
      "77231      NO APPARENT INJURY                    DC        TOYOTA   \n",
      "77232  SUSPECTED MINOR INJURY                    MD         MAZDA   \n",
      "77233      NO APPARENT INJURY                    MD          CADI   \n",
      "77234      NO APPARENT INJURY                    MD          NISS   \n",
      "\n",
      "      Equipment Problems   Latitude  Longitude  Day  Year  Month  \\\n",
      "0              NO MISUSE  38.988440 -77.127668   16  2015     12   \n",
      "1              NO MISUSE  39.094075 -77.205783    1  2016      5   \n",
      "2              NO MISUSE  39.047180 -77.052688   16  2018      3   \n",
      "3                    NaN  39.178007 -77.238475   25  2018      5   \n",
      "4                UNKNOWN  39.056134 -77.154043   23  2017      9   \n",
      "...                  ...        ...        ...  ...   ...    ...   \n",
      "77230          NO MISUSE  39.116285 -76.963613    6  2019      2   \n",
      "77231          NO MISUSE  39.108410 -76.925858   23  2019     12   \n",
      "77232                NaN  39.122352 -77.177598    6  2015      9   \n",
      "77233          NO MISUSE  38.983770 -77.093128   23  2019      5   \n",
      "77234          NO MISUSE  39.010772 -77.041102   19  2015      6   \n",
      "\n",
      "       Agency Name_GAITHERSBURG  ...  Vehicle Movement_STARTING FROM PARKED  \\\n",
      "0                             0  ...                                      0   \n",
      "1                             0  ...                                      0   \n",
      "2                             0  ...                                      0   \n",
      "3                             0  ...                                      0   \n",
      "4                             0  ...                                      0   \n",
      "...                         ...  ...                                    ...   \n",
      "77230                         0  ...                                      0   \n",
      "77231                         0  ...                                      0   \n",
      "77232                         0  ...                                      0   \n",
      "77233                         0  ...                                      0   \n",
      "77234                         0  ...                                      0   \n",
      "\n",
      "       Vehicle Movement_STOPPED IN TRAFFIC LANE  Vehicle Movement_UNKNOWN  \\\n",
      "0                                             0                         0   \n",
      "1                                             1                         0   \n",
      "2                                             0                         0   \n",
      "3                                             0                         0   \n",
      "4                                             0                         0   \n",
      "...                                         ...                       ...   \n",
      "77230                                         0                         0   \n",
      "77231                                         0                         0   \n",
      "77232                                         0                         0   \n",
      "77233                                         0                         0   \n",
      "77234                                         0                         0   \n",
      "\n",
      "       Vehicle Damage Extent_DESTROYED  Vehicle Damage Extent_DISABLING  \\\n",
      "0                                    0                                0   \n",
      "1                                    0                                0   \n",
      "2                                    0                                0   \n",
      "3                                    0                                1   \n",
      "4                                    0                                0   \n",
      "...                                ...                              ...   \n",
      "77230                                0                                1   \n",
      "77231                                0                                0   \n",
      "77232                                0                                0   \n",
      "77233                                0                                0   \n",
      "77234                                0                                0   \n",
      "\n",
      "       Vehicle Damage Extent_FUNCTIONAL  Vehicle Damage Extent_NO DAMAGE  \\\n",
      "0                                     1                                0   \n",
      "1                                     0                                0   \n",
      "2                                     0                                1   \n",
      "3                                     0                                0   \n",
      "4                                     0                                0   \n",
      "...                                 ...                              ...   \n",
      "77230                                 0                                0   \n",
      "77231                                 0                                0   \n",
      "77232                                 0                                1   \n",
      "77233                                 0                                0   \n",
      "77234                                 0                                0   \n",
      "\n",
      "       Vehicle Damage Extent_OTHER  Vehicle Damage Extent_SUPERFICIAL  \\\n",
      "0                                0                                  0   \n",
      "1                                0                                  1   \n",
      "2                                0                                  0   \n",
      "3                                0                                  0   \n",
      "4                                0                                  1   \n",
      "...                            ...                                ...   \n",
      "77230                            0                                  0   \n",
      "77231                            0                                  1   \n",
      "77232                            0                                  0   \n",
      "77233                            0                                  1   \n",
      "77234                            0                                  1   \n",
      "\n",
      "       Vehicle Damage Extent_UNKNOWN  \n",
      "0                                  0  \n",
      "1                                  0  \n",
      "2                                  0  \n",
      "3                                  0  \n",
      "4                                  0  \n",
      "...                              ...  \n",
      "77230                              0  \n",
      "77231                              0  \n",
      "77232                              0  \n",
      "77233                              0  \n",
      "77234                              0  \n",
      "\n",
      "[77235 rows x 203 columns]\n"
     ]
    }
   ],
   "source": [
    "df_test = one_hot_encode(df_test)\n",
    "print(df_test)"
   ]
  },
  {
   "cell_type": "code",
   "execution_count": 1007,
   "id": "fb812020",
   "metadata": {},
   "outputs": [],
   "source": [
    "df_test = ranking_encode(df_test)"
   ]
  },
  {
   "cell_type": "code",
   "execution_count": 1008,
   "id": "67600a67",
   "metadata": {
    "scrolled": true
   },
   "outputs": [],
   "source": [
    "classifier = RandomForestClassifier(n_estimators = 5000)\n",
    "classifier.fit(X_train, Y_train)\n",
    "y_pred = classifier.predict(df_test)"
   ]
  },
  {
   "cell_type": "code",
   "execution_count": 1009,
   "id": "b387e1e3",
   "metadata": {
    "scrolled": true
   },
   "outputs": [],
   "source": [
    "y_pred = pd.DataFrame(data = np.array(y_pred), columns = ['Fault'])\n",
    "sub = pd.concat([ids, y_pred], axis=1)\n",
    "sub.to_csv(\"submission.csv\", index=False)"
   ]
  },
  {
   "cell_type": "code",
   "execution_count": null,
   "id": "0ea2f9d5",
   "metadata": {},
   "outputs": [],
   "source": []
  }
 ],
 "metadata": {
  "kernelspec": {
   "display_name": "Python 3",
   "language": "python",
   "name": "python3"
  },
  "language_info": {
   "codemirror_mode": {
    "name": "ipython",
    "version": 3
   },
   "file_extension": ".py",
   "mimetype": "text/x-python",
   "name": "python",
   "nbconvert_exporter": "python",
   "pygments_lexer": "ipython3",
   "version": "3.8.8"
  }
 },
 "nbformat": 4,
 "nbformat_minor": 5
}
